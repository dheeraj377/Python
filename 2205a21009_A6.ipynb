{
  "nbformat": 4,
  "nbformat_minor": 0,
  "metadata": {
    "colab": {
      "provenance": [],
      "authorship_tag": "ABX9TyNDhGoaCxI+OkmGjqaxT1z6",
      "include_colab_link": true
    },
    "kernelspec": {
      "name": "python3",
      "display_name": "Python 3"
    },
    "language_info": {
      "name": "python"
    }
  },
  "cells": [
    {
      "cell_type": "markdown",
      "metadata": {
        "id": "view-in-github",
        "colab_type": "text"
      },
      "source": [
        "<a href=\"https://colab.research.google.com/github/dheeraj377/Python/blob/main/2205a21009_A6.ipynb\" target=\"_parent\"><img src=\"https://colab.research.google.com/assets/colab-badge.svg\" alt=\"Open In Colab\"/></a>"
      ]
    },
    {
      "cell_type": "code",
      "source": [
        "#Pattern 1\n",
        "#While Loop\n",
        "n=int(input(\"enter the value: \"))\n",
        "i=n\n",
        "while i>0:\n",
        "  j=0\n",
        "  while j<i:\n",
        "    print(\"+\",end=\"\")\n",
        "    j+=1\n",
        "  print()\n",
        "  i-=1"
      ],
      "metadata": {
        "colab": {
          "base_uri": "https://localhost:8080/"
        },
        "id": "_dGcqJ5GXXBF",
        "outputId": "5e507708-7bfb-4d6f-f751-54ec85e1c1d3"
      },
      "execution_count": null,
      "outputs": [
        {
          "output_type": "stream",
          "name": "stdout",
          "text": [
            "enter the value: 6\n",
            "++++++\n",
            "+++++\n",
            "++++\n",
            "+++\n",
            "++\n",
            "+\n"
          ]
        }
      ]
    },
    {
      "cell_type": "code",
      "execution_count": null,
      "metadata": {
        "colab": {
          "base_uri": "https://localhost:8080/"
        },
        "id": "ZLHxQD8DVwko",
        "outputId": "4e3ca21d-f6fa-448f-d1ff-ea03c25c9e6b"
      },
      "outputs": [
        {
          "output_type": "stream",
          "name": "stdout",
          "text": [
            "enter the value: 6\n",
            "++++++\n",
            "+++++\n",
            "++++\n",
            "+++\n",
            "++\n",
            "+\n"
          ]
        }
      ],
      "source": [
        "#Pattern 1\n",
        "#For Loop\n",
        "n=int(input(\"enter the value: \"))\n",
        "for i in range(n,0,-1):\n",
        "  for j in range(i):\n",
        "    print(\"+\",end=\"\")\n",
        "  print()"
      ]
    },
    {
      "cell_type": "code",
      "source": [
        "#Pattern 2\n",
        "#For Loop\n",
        "n=int(input(\"enter the value: \"))\n",
        "for i in range(n):\n",
        "  for j in range(i+1):\n",
        "    print(\"*\",end=\"\")\n",
        "  print(\"\\n\")"
      ],
      "metadata": {
        "colab": {
          "base_uri": "https://localhost:8080/"
        },
        "id": "ksrJslO9aAAN",
        "outputId": "792ba9d9-bca8-489d-9aa4-04ca3f73d937"
      },
      "execution_count": null,
      "outputs": [
        {
          "output_type": "stream",
          "name": "stdout",
          "text": [
            "enter the value: 6\n",
            "*\n",
            "\n",
            "**\n",
            "\n",
            "***\n",
            "\n",
            "****\n",
            "\n",
            "*****\n",
            "\n",
            "******\n",
            "\n"
          ]
        }
      ]
    },
    {
      "cell_type": "code",
      "source": [
        "#Pattern 2\n",
        "#While Loop\n",
        "n=int(input(\"enter the value: \"))\n",
        "i=1\n",
        "while i<=n:\n",
        "  j=1\n",
        "  while j<=i:\n",
        "    print(\"*\",end=\"\")\n",
        "    j+=1\n",
        "  print(\"\\n\")\n",
        "  i+=1\n"
      ],
      "metadata": {
        "colab": {
          "base_uri": "https://localhost:8080/"
        },
        "id": "c3De7MCOa1fO",
        "outputId": "143e6529-df55-4809-eba6-71650f2c011f"
      },
      "execution_count": null,
      "outputs": [
        {
          "output_type": "stream",
          "name": "stdout",
          "text": [
            "enter the value: 6\n",
            "*\n",
            "\n",
            "**\n",
            "\n",
            "***\n",
            "\n",
            "****\n",
            "\n",
            "*****\n",
            "\n",
            "******\n",
            "\n"
          ]
        }
      ]
    },
    {
      "cell_type": "code",
      "source": [
        "#Pattern 3\n",
        "#While Loop\n",
        "rows = int(input(\"Enter the value: \"))\n",
        "i = 1\n",
        "while i <= rows:\n",
        "    j = rows - i\n",
        "    while j > 0:\n",
        "        print(\" \", end=\"\")\n",
        "        j -= 1\n",
        "    k = i\n",
        "    while k > 0:\n",
        "        print(\"*\", end=\"\")\n",
        "        k -= 1\n",
        "    print()\n",
        "    i += 1"
      ],
      "metadata": {
        "colab": {
          "base_uri": "https://localhost:8080/"
        },
        "id": "1Hbg-wT4dwBs",
        "outputId": "fd219f80-a48e-4b7d-f948-4a41cf64bf2c"
      },
      "execution_count": null,
      "outputs": [
        {
          "output_type": "stream",
          "name": "stdout",
          "text": [
            "Enter the value: 6\n",
            "     *\n",
            "    **\n",
            "   ***\n",
            "  ****\n",
            " *****\n",
            "******\n"
          ]
        }
      ]
    },
    {
      "cell_type": "code",
      "source": [
        "#Pattern 3\n",
        "#For Loop\n",
        "rows = int(input(\"Enter the value: \"))\n",
        "for i in range(1, rows + 1):\n",
        "    for j in range(rows - i):\n",
        "        print(\" \", end=\"\")\n",
        "    for k in range(i):\n",
        "        print(\"*\", end=\"\")\n",
        "    print()"
      ],
      "metadata": {
        "colab": {
          "base_uri": "https://localhost:8080/"
        },
        "id": "pKa087ZdfnWN",
        "outputId": "7b124929-e12c-4882-b5ea-2918ad9f39b1"
      },
      "execution_count": null,
      "outputs": [
        {
          "output_type": "stream",
          "name": "stdout",
          "text": [
            "Enter the value: 6\n",
            "     *\n",
            "    **\n",
            "   ***\n",
            "  ****\n",
            " *****\n",
            "******\n"
          ]
        }
      ]
    },
    {
      "cell_type": "code",
      "source": [
        "#Pattern 4\n",
        "#For Loop\n",
        "n = int(input(\"Enter the value: \"))\n",
        "for i in range(n):\n",
        "    for j in range(i):\n",
        "        print(\" \", end=\"\")\n",
        "    for k in range(n - i):\n",
        "        print(\"+\", end=\"\")\n",
        "    print()"
      ],
      "metadata": {
        "colab": {
          "base_uri": "https://localhost:8080/"
        },
        "id": "0xUcCZ18ga6N",
        "outputId": "5e7abf62-cc5b-4ccc-e556-0b1008a67ea2"
      },
      "execution_count": null,
      "outputs": [
        {
          "output_type": "stream",
          "name": "stdout",
          "text": [
            "Enter the value: 6\n",
            "++++++\n",
            " +++++\n",
            "  ++++\n",
            "   +++\n",
            "    ++\n",
            "     +\n"
          ]
        }
      ]
    },
    {
      "cell_type": "code",
      "source": [
        "#Pattern 4\n",
        "#While Loop\n",
        "n = int(input(\"Enter the value: \"))\n",
        "i = 0\n",
        "while i < n:\n",
        "    j = 0\n",
        "    while j < i:\n",
        "        print(\" \", end=\"\")\n",
        "        j += 1\n",
        "    k = 0\n",
        "    while k < (n - i):\n",
        "        print(\"+\", end=\"\")\n",
        "        k += 1\n",
        "    print()\n",
        "    i += 1"
      ],
      "metadata": {
        "colab": {
          "base_uri": "https://localhost:8080/"
        },
        "id": "HJdDymsoh-ws",
        "outputId": "4539b492-d363-4e94-c8e5-11120cdca652"
      },
      "execution_count": null,
      "outputs": [
        {
          "output_type": "stream",
          "name": "stdout",
          "text": [
            "Enter the value: 6\n",
            "++++++\n",
            " +++++\n",
            "  ++++\n",
            "   +++\n",
            "    ++\n",
            "     +\n"
          ]
        }
      ]
    }
  ]
}