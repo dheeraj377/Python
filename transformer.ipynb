{
  "nbformat": 4,
  "nbformat_minor": 0,
  "metadata": {
    "colab": {
      "provenance": [],
      "authorship_tag": "ABX9TyMIB05uyXAKeeSfJUI8mclr",
      "include_colab_link": true
    },
    "kernelspec": {
      "name": "python3",
      "display_name": "Python 3"
    },
    "language_info": {
      "name": "python"
    }
  },
  "cells": [
    {
      "cell_type": "markdown",
      "metadata": {
        "id": "view-in-github",
        "colab_type": "text"
      },
      "source": [
        "<a href=\"https://colab.research.google.com/github/dheeraj377/Python/blob/main/transformer.ipynb\" target=\"_parent\"><img src=\"https://colab.research.google.com/assets/colab-badge.svg\" alt=\"Open In Colab\"/></a>"
      ]
    },
    {
      "cell_type": "code",
      "execution_count": 1,
      "metadata": {
        "id": "hGgUDAjvLuIv"
      },
      "outputs": [],
      "source": [
        "import math\n",
        "def oc(vo,io,wo):\n",
        " npf=wo/(vo*io)\n",
        " iw=io*npf\n",
        " imv=io*math.sqrt(1-npf**2)\n",
        " ro=vo/iw\n",
        " xo=vo/imv\n",
        " return ro,xo\n"
      ]
    },
    {
      "cell_type": "code",
      "source": [
        "def sc(vsc,isc,wsc):\n",
        "  import math\n",
        "  rsc=wsc/(isc**2)\n",
        "  zsc=vsc/isc\n",
        "  xsc=math.sqrt(zsc**2-rsc**2)\n",
        "  return rsc,xsc"
      ],
      "metadata": {
        "id": "9GWLY5ggSNrp"
      },
      "execution_count": 8,
      "outputs": []
    },
    {
      "cell_type": "code",
      "source": [
        "def eff(r,wo,wsc,x,pf):\n",
        " effi=(x*r*pf*100)/(x*r*pf+wo+(x**2)*wsc)\n",
        " xcu=wsc*(x**2)\n",
        " return effi,xcu\n"
      ],
      "metadata": {
        "id": "mwTayTHnSmhQ"
      },
      "execution_count": 9,
      "outputs": []
    }
  ]
}